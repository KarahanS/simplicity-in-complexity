{
 "cells": [
  {
   "cell_type": "code",
   "execution_count": 1,
   "metadata": {},
   "outputs": [],
   "source": [
    "from data import load_complexity, load_sam_features, load_fcclip_features, load_additional_features\n",
    "from baseline_predictions import load_visc_handcrafted, load_visc_nn, load_ic9600_nn, load_savoias_nn, load_rsivl_handcrafted\n",
    "from categories import scenes_art_split\n",
    "from transformations import get_transforms, get_sqrt_transforms\n",
    "from constants import DATASET_NAMES\n",
    "from cross_validation import cross_validate\n",
    "from util import results_to_mean_confidence_interval\n",
    "from linear_regression import line_regression"
   ]
  },
  {
   "cell_type": "code",
   "execution_count": 2,
   "metadata": {},
   "outputs": [],
   "source": [
    "import json\n",
    "import pickle\n",
    "import pandas as pd"
   ]
  },
  {
   "cell_type": "markdown",
   "metadata": {},
   "source": [
    "# Load Data"
   ]
  },
  {
   "cell_type": "code",
   "execution_count": 3,
   "metadata": {},
   "outputs": [],
   "source": [
    "def join_data():\n",
    "\n",
    "    df_c = load_complexity()\n",
    "    df_s = load_sam_features()\n",
    "    df_f = load_fcclip_features()\n",
    "    df_a = load_additional_features()\n",
    "    df_v = load_visc_handcrafted()\n",
    "    df_vn = load_visc_nn()\n",
    "    df_in = load_ic9600_nn()\n",
    "    df_sn = load_savoias_nn()\n",
    "    df_r = load_rsivl_handcrafted()\n",
    "\n",
    "    # returns 2 versions of the dataframe dictionary where data_test only contains test images for ic9600 dataset\n",
    "    data_full = {}\n",
    "    data_test = {}\n",
    "    \n",
    "    for k in DATASET_NAMES:\n",
    "        data_full[k] = pd.concat(\n",
    "            [df[k].set_index(\"filename\") for df in [\n",
    "                df_c, df_s, df_f, df_a, df_v, df_vn, df_sn, df_r\n",
    "            ]], \n",
    "            axis=1, join='inner').reset_index()\n",
    "\n",
    "        data_test[k] = pd.concat(\n",
    "            [df[k].set_index(\"filename\") for df in [\n",
    "                df_c, df_s, df_f, df_a, df_v, df_vn, df_in, df_sn, df_r\n",
    "            ]], \n",
    "            axis=1, join='inner').reset_index()\n",
    "\n",
    "    return data_full, data_test\n",
    "\n",
    "def num_check(data, test=False):\n",
    "    if test:\n",
    "        assert len(data[\"ic9600\"]) == 2825\n",
    "    else:\n",
    "        assert len(data[\"ic9600\"]) == 9425\n",
    "\n",
    "    assert len(data[\"rsivl\"]) == 49\n",
    "    assert len(data[\"visc\"]) == 800\n",
    "    assert len(data[\"sav_int\"]) == 100\n",
    "    assert len(data[\"sav_obj\"]) == 200\n",
    "    assert len(data[\"sav_sce\"]) == 200\n",
    "    assert len(data[\"sav_art\"]) == 420\n",
    "    assert len(data[\"sav_sup\"]) == 100"
   ]
  },
  {
   "cell_type": "code",
   "execution_count": 4,
   "metadata": {},
   "outputs": [
    {
     "name": "stderr",
     "output_type": "stream",
     "text": [
      "/home/tshen/projects/simplicity-in-complexity/analysis/data.py:30: ParserWarning: Falling back to the 'python' engine because the 'c' engine does not support regex separators (separators > 1 char and different from '\\s+' are interpreted as regex); you can avoid this warning by specifying engine='python'.\n",
      "  labels['ic9600'] = pd.concat([pd.read_csv(fn, names=[\"filename\", \"complexity\"], header=None, delimiter=r\"  \") for fn in ic9600])\n",
      "/home/tshen/projects/simplicity-in-complexity/analysis/data.py:30: ParserWarning: Falling back to the 'python' engine because the 'c' engine does not support regex separators (separators > 1 char and different from '\\s+' are interpreted as regex); you can avoid this warning by specifying engine='python'.\n",
      "  labels['ic9600'] = pd.concat([pd.read_csv(fn, names=[\"filename\", \"complexity\"], header=None, delimiter=r\"  \") for fn in ic9600])\n"
     ]
    }
   ],
   "source": [
    "data_full, data_test = join_data()\n",
    "num_check(data_full, test=False)\n",
    "num_check(data_test, test=True)"
   ]
  },
  {
   "cell_type": "markdown",
   "metadata": {},
   "source": [
    "# Label Subcategories\n",
    "(for stratified sampling of train-test sets)"
   ]
  },
  {
   "cell_type": "code",
   "execution_count": 5,
   "metadata": {},
   "outputs": [],
   "source": [
    "def add_ic9600_subcat(data):\n",
    "    data[\"ic9600\"][\"subcat\"] = data[\"ic9600\"][\"filename\"].str.split('_', expand=True)[0]\n",
    "\n",
    "def add_visc_subcat(data):\n",
    "    visc_cat_map = json.load(open(\"/ptmp/tshen/shared/VISCHEMA_SUN/file_categories.json\"))\n",
    "    data[\"visc\"]['subcat'] = data[\"visc\"]['filename'].apply(lambda x: visc_cat_map[x])\n",
    "\n",
    "def add_savoias_subcat(data):\n",
    "    data[\"sav_obj\"][\"subcat\"] = \"object\"\n",
    "    data[\"sav_sce\"][\"subcat\"] = \"scene\""
   ]
  },
  {
   "cell_type": "code",
   "execution_count": 6,
   "metadata": {},
   "outputs": [],
   "source": [
    "add_ic9600_subcat(data_full)\n",
    "add_ic9600_subcat(data_test)\n",
    "add_visc_subcat(data_full)\n",
    "add_visc_subcat(data_test)\n",
    "add_savoias_subcat(data_full)\n",
    "add_savoias_subcat(data_test)"
   ]
  },
  {
   "cell_type": "markdown",
   "metadata": {},
   "source": [
    "# Combine Datasets into Splits/Categories"
   ]
  },
  {
   "cell_type": "code",
   "execution_count": 7,
   "metadata": {},
   "outputs": [],
   "source": [
    "def check_full_split(data, test=False):\n",
    "    if test:\n",
    "        assert len(data['rsivl']) == 49\n",
    "        assert len(data['visc']) == 800\n",
    "        assert len(data['sav_int']) == 100\n",
    "        assert len(data['sav_art']) == 420\n",
    "        assert len(data['sav_sup']) == 100\n",
    "        assert len(data['sav_obj_sce']) == 400\n",
    "        assert len(data['ic9600_sce']) == 1823\n",
    "        assert len(data['ic9600_paint']) == 357\n",
    "    else:\n",
    "        assert len(data['rsivl']) == 49\n",
    "        assert len(data['visc']) == 800\n",
    "        assert len(data['sav_int']) == 100\n",
    "        assert len(data['sav_art']) == 420\n",
    "        assert len(data['sav_sup']) == 100\n",
    "        assert len(data['sav_obj_sce']) == 400\n",
    "        assert len(data['ic9600_sce']) == 5955\n",
    "        assert len(data['ic9600_paint']) == 1200"
   ]
  },
  {
   "cell_type": "code",
   "execution_count": 8,
   "metadata": {},
   "outputs": [],
   "source": [
    "data_full, cats = scenes_art_split(data_full)\n",
    "data_test, _ = scenes_art_split(data_test)\n",
    "check_full_split(data_full, test=False)\n",
    "check_full_split(data_test, test=True)"
   ]
  },
  {
   "cell_type": "markdown",
   "metadata": {},
   "source": [
    "# Cross Validated Linear Regression"
   ]
  },
  {
   "cell_type": "code",
   "execution_count": 9,
   "metadata": {},
   "outputs": [],
   "source": [
    "dataset_result = {}"
   ]
  },
  {
   "cell_type": "code",
   "execution_count": 10,
   "metadata": {},
   "outputs": [],
   "source": [
    "def run_regression(data, c, N, M, ic9600_test):\n",
    "    df = data[c].copy()\n",
    "    get_transforms(df)\n",
    "    return cross_validate(df, c, N=N, M=M, ic9600_test=ic9600_test)"
   ]
  },
  {
   "cell_type": "code",
   "execution_count": 11,
   "metadata": {},
   "outputs": [
    {
     "name": "stdout",
     "output_type": "stream",
     "text": [
      "Running dataset rsivl, CV is stratified: False\n",
      "Running dataset sav_obj_sce, CV is stratified: True\n",
      "Running dataset ic9600_sce, CV is stratified: True\n",
      "Running dataset sav_art, CV is stratified: False\n",
      "Running dataset sav_sup, CV is stratified: False\n",
      "Running dataset ic9600_paint, CV is stratified: False\n",
      "Running dataset visc, CV is stratified: True\n",
      "Running dataset sav_int, CV is stratified: False\n",
      "Running dataset ic9600_sce, CV is stratified: True\n",
      "Running dataset ic9600_paint, CV is stratified: False\n"
     ]
    }
   ],
   "source": [
    "dataset_result[\"rsivl\"] = run_regression(data_test, \"rsivl\", N=3, M=20, ic9600_test=True)\n",
    "dataset_result[\"sav_obj_sce\"] = run_regression(data_test, \"sav_obj_sce\", N=3, M=2, ic9600_test=True)\n",
    "dataset_result[\"ic9600_sce\"] = run_regression(data_test, \"ic9600_sce\", N=3, M=1, ic9600_test=True)\n",
    "dataset_result[\"sav_art\"] = run_regression(data_test, \"sav_art\", N=3, M=2, ic9600_test=True)\n",
    "dataset_result[\"sav_sup\"] = run_regression(data_test, \"sav_sup\", N=3, M=2, ic9600_test=True)\n",
    "dataset_result[\"ic9600_paint\"] = run_regression(data_test, \"ic9600_paint\", N=3, M=1, ic9600_test=True)\n",
    "dataset_result[\"visc\"] = run_regression(data_test, \"visc\", N=3, M=2, ic9600_test=True)\n",
    "dataset_result[\"sav_int\"] = run_regression(data_test, \"sav_int\", N=3, M=2, ic9600_test=True)\n",
    "\n",
    "dataset_result[\"ic9600_sce_full\"] = run_regression(data_full, \"ic9600_sce\", N=3, M=1, ic9600_test=False)\n",
    "dataset_result[\"ic9600_paint_full\"] = run_regression(data_full, \"ic9600_paint\", N=3, M=1, ic9600_test=False)"
   ]
  },
  {
   "cell_type": "code",
   "execution_count": 12,
   "metadata": {},
   "outputs": [],
   "source": [
    "results_stats = results_to_mean_confidence_interval(dataset_result)"
   ]
  },
  {
   "cell_type": "code",
   "execution_count": 19,
   "metadata": {},
   "outputs": [
    {
     "name": "stdout",
     "output_type": "stream",
     "text": [
      "Reporting Spearman correlations.\n",
      "\n",
      "DATASET: rsivl\n",
      "sqrt_seg_64points 0.7847252942047462\n",
      "sqrt_num_classes 0.7039928495023174\n",
      "sqrt_seg_64points + sqrt_num_classes 0.827797811959287\n",
      "sqrt_seg_64points_x_sqrt_num_classes 0.8363858962435959\n",
      "sqrt_seg_64points_x_sqrt_num_classes + sqrt_seg_64points + sqrt_num_classes 0.8276833877282753\n",
      "M1 + M2 + M3 + M4 + M5 + M6 + M7 + M9 + M10 + M11 0.6609087354387864\n",
      "M1 + M2 + M3 + M4 + M5 + M6 + M7 + M9 + M10 + M11 + M8 0.7055646756834092\n",
      "M5 + M10 0.6646779875011899\n",
      "M5 + M10 + M8 0.7671808469657597\n",
      "visc_symmetry + visc_clutter 0.6789085692845037\n",
      "visc_nn 0.5039195637115834\n",
      "savoias_nn 0.7162380618820479\n",
      "ic9600_nn 0.8253291820719589\n",
      "visc_symmetry 0.6969636222132699\n",
      "sqrt_seg_64points + sqrt_num_classes + visc_symmetry 0.8387124113523815\n",
      "\n",
      "DATASET: sav_obj_sce\n",
      "sqrt_seg_64points 0.6531690624677315\n",
      "sqrt_num_classes 0.7486879444336547\n",
      "sqrt_seg_64points + sqrt_num_classes 0.784937287146239\n",
      "sqrt_seg_64points_x_sqrt_num_classes 0.7934479267315896\n",
      "sqrt_seg_64points_x_sqrt_num_classes + sqrt_seg_64points + sqrt_num_classes 0.7825743246082814\n",
      "M1 + M2 + M3 + M4 + M5 + M6 + M7 + M9 + M10 + M11 0.6192472716085505\n",
      "M5 + M10 0.5187920488465823\n",
      "visc_symmetry + visc_clutter 0.536372497866812\n",
      "visc_nn 0.36393034506343874\n",
      "savoias_nn 0.6673244745586028\n",
      "ic9600_nn 0.7869198881692462\n",
      "visc_symmetry 0.446916978767117\n",
      "sqrt_seg_64points + sqrt_num_classes + visc_symmetry 0.8179364190575388\n",
      "\n",
      "DATASET: ic9600_sce\n",
      "sqrt_seg_64points 0.8147378546429933\n",
      "sqrt_num_classes 0.728529666211441\n",
      "sqrt_seg_64points + sqrt_num_classes 0.8432568618444435\n",
      "sqrt_seg_64points_x_sqrt_num_classes 0.8153853827246049\n",
      "sqrt_seg_64points_x_sqrt_num_classes + sqrt_seg_64points + sqrt_num_classes 0.8435040489910598\n",
      "M1 + M2 + M3 + M4 + M5 + M6 + M7 + M9 + M10 + M11 0.6968808154906824\n",
      "M5 + M10 0.5336547914136355\n",
      "visc_symmetry + visc_clutter 0.5377021366355117\n",
      "visc_nn 0.40550285230060396\n",
      "savoias_nn 0.5860990862985737\n",
      "ic9600_nn 0.936250660010513\n",
      "visc_symmetry 0.36984378731955586\n",
      "sqrt_seg_64points + sqrt_num_classes + visc_symmetry 0.8648641777628718\n",
      "\n",
      "DATASET: sav_art\n",
      "sqrt_seg_64points 0.6731103694642422\n",
      "sqrt_num_classes 0.56153539207398\n",
      "sqrt_seg_64points + sqrt_num_classes 0.7295086033606535\n",
      "sqrt_seg_64points_x_sqrt_num_classes 0.6992804911698692\n",
      "sqrt_seg_64points_x_sqrt_num_classes + sqrt_seg_64points + sqrt_num_classes 0.7297349666443554\n",
      "M1 + M2 + M3 + M4 + M5 + M6 + M7 + M9 + M10 + M11 0.6821835729735429\n",
      "M5 + M10 0.44019012668394936\n",
      "visc_symmetry + visc_clutter 0.5460201180299327\n",
      "visc_nn 0.29541447300765844\n",
      "savoias_nn 0.5465008147746943\n",
      "ic9600_nn 0.8117710039093747\n",
      "visc_symmetry 0.39332440813753905\n",
      "sqrt_seg_64points + sqrt_num_classes + visc_symmetry 0.7328970780454411\n",
      "\n",
      "DATASET: sav_sup\n",
      "sqrt_seg_64points 0.889733378702486\n",
      "sqrt_num_classes 0.26815705377514215\n",
      "sqrt_seg_64points + sqrt_num_classes 0.8867556316409185\n",
      "sqrt_seg_64points_x_sqrt_num_classes 0.46889093782334373\n",
      "sqrt_seg_64points_x_sqrt_num_classes + sqrt_seg_64points + sqrt_num_classes 0.8878037682433163\n",
      "M1 + M2 + M3 + M4 + M5 + M6 + M7 + M9 + M10 + M11 0.7974043383500226\n",
      "M5 + M10 0.8461123603796844\n",
      "visc_symmetry + visc_clutter 0.7900250546950255\n",
      "visc_nn 0.14854481764326735\n",
      "savoias_nn 0.7280666732285876\n",
      "ic9600_nn 0.8410785112401046\n",
      "visc_symmetry 0.6318879379682433\n",
      "sqrt_seg_64points + sqrt_num_classes + visc_symmetry 0.892565582805537\n",
      "\n",
      "DATASET: ic9600_paint\n",
      "sqrt_seg_64points 0.8221147274660975\n",
      "sqrt_num_classes 0.665051206929831\n",
      "sqrt_seg_64points + sqrt_num_classes 0.8256135342491296\n",
      "sqrt_seg_64points_x_sqrt_num_classes 0.7955052051975547\n",
      "sqrt_seg_64points_x_sqrt_num_classes + sqrt_seg_64points + sqrt_num_classes 0.8242101952119724\n",
      "M1 + M2 + M3 + M4 + M5 + M6 + M7 + M9 + M10 + M11 0.530044619651638\n",
      "M5 + M10 0.3754198050218472\n",
      "visc_symmetry + visc_clutter 0.4887752007301585\n",
      "visc_nn 0.32731789594357846\n",
      "savoias_nn 0.5802128718489507\n",
      "ic9600_nn 0.9331049641662176\n",
      "visc_symmetry 0.492526361026658\n",
      "sqrt_seg_64points + sqrt_num_classes + visc_symmetry 0.8544358649278866\n",
      "\n",
      "DATASET: visc\n",
      "sqrt_seg_64points 0.5669297200493377\n",
      "sqrt_num_classes 0.3110668344234127\n",
      "sqrt_seg_64points + sqrt_num_classes 0.562871858657002\n",
      "sqrt_seg_64points_x_sqrt_num_classes 0.44902290103500997\n",
      "sqrt_seg_64points_x_sqrt_num_classes + sqrt_seg_64points + sqrt_num_classes 0.5677069553289431\n",
      "M1 + M2 + M3 + M4 + M5 + M6 + M7 + M9 + M10 + M11 0.6239388428812586\n",
      "M5 + M10 0.4711839983080381\n",
      "visc_symmetry + visc_clutter 0.6021822882371942\n",
      "visc_nn 0.883532735220717\n",
      "savoias_nn 0.5797141562274484\n",
      "ic9600_nn 0.7220908819320858\n",
      "visc_symmetry 0.5785349116629024\n",
      "sqrt_seg_64points + sqrt_num_classes + visc_symmetry 0.6815632680802767\n",
      "\n",
      "DATASET: sav_int\n",
      "sqrt_seg_64points 0.6216254548605475\n",
      "sqrt_num_classes 0.4097906431614753\n",
      "sqrt_seg_64points + sqrt_num_classes 0.611160129167803\n",
      "sqrt_seg_64points_x_sqrt_num_classes 0.5528492586161864\n",
      "sqrt_seg_64points_x_sqrt_num_classes + sqrt_seg_64points + sqrt_num_classes 0.6077279147018421\n",
      "M1 + M2 + M3 + M4 + M5 + M6 + M7 + M9 + M10 + M11 0.8455269451745552\n",
      "M5 + M10 0.7262955394121566\n",
      "visc_symmetry + visc_clutter 0.742740886111529\n",
      "visc_nn 0.5596252812657865\n",
      "savoias_nn 0.7539106584760887\n",
      "ic9600_nn 0.894444550519213\n",
      "visc_symmetry 0.6950871642697214\n",
      "sqrt_seg_64points + sqrt_num_classes + visc_symmetry 0.7977451895440022\n",
      "\n",
      "DATASET: ic9600_sce_full\n",
      "sqrt_seg_64points 0.7961512934473699\n",
      "sqrt_num_classes 0.7317062443756118\n",
      "sqrt_seg_64points + sqrt_num_classes 0.828543893016047\n",
      "sqrt_seg_64points_x_sqrt_num_classes 0.808943910749052\n",
      "sqrt_seg_64points_x_sqrt_num_classes + sqrt_seg_64points + sqrt_num_classes 0.8284378715533723\n",
      "M1 + M2 + M3 + M4 + M5 + M6 + M7 + M9 + M10 + M11 0.7045127114843058\n",
      "M5 + M10 0.5422564248834337\n",
      "visc_symmetry + visc_clutter 0.5313536279893842\n",
      "visc_nn 0.3728731448759996\n",
      "savoias_nn 0.5643096288480549\n",
      "visc_symmetry 0.3532826481387968\n",
      "sqrt_seg_64points + sqrt_num_classes + visc_symmetry 0.8518199035665929\n",
      "\n",
      "DATASET: ic9600_paint_full\n",
      "sqrt_seg_64points 0.8196195559622693\n",
      "sqrt_num_classes 0.684466212881433\n",
      "sqrt_seg_64points + sqrt_num_classes 0.8330652449939625\n",
      "sqrt_seg_64points_x_sqrt_num_classes 0.8063960016042202\n",
      "sqrt_seg_64points_x_sqrt_num_classes + sqrt_seg_64points + sqrt_num_classes 0.8323253192082644\n",
      "M1 + M2 + M3 + M4 + M5 + M6 + M7 + M9 + M10 + M11 0.5627036991186909\n",
      "M5 + M10 0.42702433137380563\n",
      "visc_symmetry + visc_clutter 0.4958794928756663\n",
      "visc_nn 0.3197106719045311\n",
      "savoias_nn 0.570372632263232\n",
      "visc_symmetry 0.49179001509814807\n",
      "sqrt_seg_64points + sqrt_num_classes + visc_symmetry 0.854440093086969\n"
     ]
    }
   ],
   "source": [
    "print(\"Reporting Spearman correlations.\")\n",
    "\n",
    "for dset, v in results_stats.items():\n",
    "    print(\"\\nDATASET: {}\".format(dset))\n",
    "    for mod, vv in v.items():\n",
    "        for s, (m, i) in vv.items():\n",
    "            if s == \"spearman_test\":\n",
    "                print(mod, m)"
   ]
  },
  {
   "cell_type": "markdown",
   "metadata": {},
   "source": [
    "# Predictions from Single Split"
   ]
  },
  {
   "cell_type": "code",
   "execution_count": null,
   "metadata": {},
   "outputs": [],
   "source": [
    "for k in cats:\n",
    "    get_sqrt_transforms(data_full[k])\n",
    "    result = line_regression(\"complexity\", \"sqrt_seg_64points + sqrt_num_classes\", data_full[k], data_full[k], return_preds=True)\n",
    "    data_full[k][\"predictions\"] = result['predictions']\n",
    "    data_full[k][\"error\"] = result['predictions'] - data_full[k]['complexity']"
   ]
  },
  {
   "cell_type": "markdown",
   "metadata": {},
   "source": [
    "# Save Data for Analysis"
   ]
  },
  {
   "cell_type": "code",
   "execution_count": null,
   "metadata": {},
   "outputs": [],
   "source": [
    "pickle.dump(data_full, open(\"/ptmp/tshen/shared/Results/results.p\", \"wb\"))"
   ]
  }
 ],
 "metadata": {
  "kernelspec": {
   "display_name": "deep-learning",
   "language": "python",
   "name": "python3"
  },
  "language_info": {
   "codemirror_mode": {
    "name": "ipython",
    "version": 3
   },
   "file_extension": ".py",
   "mimetype": "text/x-python",
   "name": "python",
   "nbconvert_exporter": "python",
   "pygments_lexer": "ipython3",
   "version": "3.9.16"
  }
 },
 "nbformat": 4,
 "nbformat_minor": 2
}

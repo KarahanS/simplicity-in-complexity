{
 "cells": [
  {
   "cell_type": "code",
   "execution_count": null,
   "metadata": {},
   "outputs": [],
   "source": [
    "from data import load_complexity, load_sam_features, load_fcclip_features, load_additional_features\n",
    "from baseline_predictions import load_visc_handcrafted, load_visc_nn, load_ic9600_nn, load_savoias_nn, load_rsivl_handcrafted\n",
    "from categories import scenes_art_split\n",
    "from transformations import get_transforms, get_sqrt_transforms\n",
    "from constants import DATASET_NAMES\n",
    "from cross_validation import cross_validate\n",
    "from util import results_to_mean_confidence_interval\n",
    "from linear_regression import line_regression"
   ]
  },
  {
   "cell_type": "code",
   "execution_count": null,
   "metadata": {},
   "outputs": [],
   "source": [
    "import json\n",
    "import pickle\n",
    "import pandas as pd"
   ]
  },
  {
   "cell_type": "markdown",
   "metadata": {},
   "source": [
    "# Load Data"
   ]
  },
  {
   "cell_type": "code",
   "execution_count": null,
   "metadata": {},
   "outputs": [],
   "source": [
    "def join_data():\n",
    "\n",
    "    df_c = load_complexity()\n",
    "    df_s = load_sam_features()\n",
    "    df_f = load_fcclip_features()\n",
    "    df_a = load_additional_features()\n",
    "    df_v = load_visc_handcrafted()\n",
    "    df_vn = load_visc_nn()\n",
    "    df_in = load_ic9600_nn()\n",
    "    df_sn = load_savoias_nn()\n",
    "    df_r = load_rsivl_handcrafted()\n",
    "\n",
    "    # returns 2 versions of the dataframe dictionary where data_test only contains test images for ic9600 dataset\n",
    "    data_full = {}\n",
    "    data_test = {}\n",
    "    \n",
    "    for k in DATASET_NAMES:\n",
    "        data_full[k] = pd.concat(\n",
    "            [df[k].set_index(\"filename\") for df in [\n",
    "                df_c, df_s, df_f, df_a, df_v, df_vn, df_sn, df_r\n",
    "            ]], \n",
    "            axis=1, join='inner').reset_index()\n",
    "\n",
    "        data_test[k] = pd.concat(\n",
    "            [df[k].set_index(\"filename\") for df in [\n",
    "                df_c, df_s, df_f, df_a, df_v, df_vn, df_in, df_sn, df_r\n",
    "            ]], \n",
    "            axis=1, join='inner').reset_index()\n",
    "\n",
    "    return data_full, data_test\n",
    "\n",
    "def num_check(data, test=False):\n",
    "    if test:\n",
    "        assert len(data[\"ic9600\"]) == 2825\n",
    "    else:\n",
    "        assert len(data[\"ic9600\"]) == 9425\n",
    "\n",
    "    assert len(data[\"rsivl\"]) == 49\n",
    "    assert len(data[\"visc\"]) == 800\n",
    "    assert len(data[\"sav_int\"]) == 100\n",
    "    assert len(data[\"sav_obj\"]) == 200\n",
    "    assert len(data[\"sav_sce\"]) == 200\n",
    "    assert len(data[\"sav_art\"]) == 420\n",
    "    assert len(data[\"sav_sup\"]) == 100"
   ]
  },
  {
   "cell_type": "code",
   "execution_count": null,
   "metadata": {},
   "outputs": [],
   "source": [
    "data_full, data_test = join_data()\n",
    "num_check(data_full, test=False)\n",
    "num_check(data_test, test=True)"
   ]
  },
  {
   "cell_type": "markdown",
   "metadata": {},
   "source": [
    "# Label Subcategories\n",
    "(for stratified sampling of train-test sets)"
   ]
  },
  {
   "cell_type": "code",
   "execution_count": null,
   "metadata": {},
   "outputs": [],
   "source": [
    "def add_ic9600_subcat(data):\n",
    "    data[\"ic9600\"][\"subcat\"] = data[\"ic9600\"][\"filename\"].str.split('_', expand=True)[0]\n",
    "\n",
    "def add_visc_subcat(data):\n",
    "    visc_cat_map = json.load(open(\"/ptmp/tshen/shared/VISCHEMA_SUN/file_categories.json\"))\n",
    "    data[\"visc\"]['subcat'] = data[\"visc\"]['filename'].apply(lambda x: visc_cat_map[x])\n",
    "\n",
    "def add_savoias_subcat(data):\n",
    "    data[\"sav_obj\"][\"subcat\"] = \"object\"\n",
    "    data[\"sav_sce\"][\"subcat\"] = \"scene\""
   ]
  },
  {
   "cell_type": "code",
   "execution_count": null,
   "metadata": {},
   "outputs": [],
   "source": [
    "add_ic9600_subcat(data_full)\n",
    "add_ic9600_subcat(data_test)\n",
    "add_visc_subcat(data_full)\n",
    "add_visc_subcat(data_test)\n",
    "add_savoias_subcat(data_full)\n",
    "add_savoias_subcat(data_test)"
   ]
  },
  {
   "cell_type": "markdown",
   "metadata": {},
   "source": [
    "# Combine Datasets into Splits/Categories"
   ]
  },
  {
   "cell_type": "code",
   "execution_count": null,
   "metadata": {},
   "outputs": [],
   "source": [
    "def check_full_split(data, test=False):\n",
    "    if test:\n",
    "        assert len(data['rsivl']) == 49\n",
    "        assert len(data['visc']) == 800\n",
    "        assert len(data['sav_int']) == 100\n",
    "        assert len(data['sav_art']) == 420\n",
    "        assert len(data['sav_sup']) == 100\n",
    "        assert len(data['sav_obj_sce']) == 400\n",
    "        assert len(data['ic9600_sce']) == 1823\n",
    "        assert len(data['ic9600_paint']) == 357\n",
    "    else:\n",
    "        assert len(data['rsivl']) == 49\n",
    "        assert len(data['visc']) == 800\n",
    "        assert len(data['sav_int']) == 100\n",
    "        assert len(data['sav_art']) == 420\n",
    "        assert len(data['sav_sup']) == 100\n",
    "        assert len(data['sav_obj_sce']) == 400\n",
    "        assert len(data['ic9600_sce']) == 5955\n",
    "        assert len(data['ic9600_paint']) == 1200"
   ]
  },
  {
   "cell_type": "code",
   "execution_count": null,
   "metadata": {},
   "outputs": [],
   "source": [
    "data_full, cats = scenes_art_split(data_full)\n",
    "data_test, _ = scenes_art_split(data_test)\n",
    "check_full_split(data_full, test=False)\n",
    "check_full_split(data_test, test=True)"
   ]
  },
  {
   "cell_type": "markdown",
   "metadata": {},
   "source": [
    "# Cross Validated Linear Regression"
   ]
  },
  {
   "cell_type": "code",
   "execution_count": null,
   "metadata": {},
   "outputs": [],
   "source": [
    "dataset_result = {}"
   ]
  },
  {
   "cell_type": "code",
   "execution_count": null,
   "metadata": {},
   "outputs": [],
   "source": [
    "def run_regression(data, c, N, M, ic9600_test):\n",
    "    df = data[c].copy()\n",
    "    get_transforms(df)\n",
    "    return cross_validate(df, c, N=N, M=M, ic9600_test=ic9600_test)"
   ]
  },
  {
   "cell_type": "code",
   "execution_count": null,
   "metadata": {},
   "outputs": [],
   "source": [
    "dataset_result[\"rsivl\"] = run_regression(data_test, \"rsivl\", N=3, M=20, ic9600_test=True)\n",
    "dataset_result[\"sav_obj_sce\"] = run_regression(data_test, \"sav_obj_sce\", N=3, M=2, ic9600_test=True)\n",
    "dataset_result[\"ic9600_sce\"] = run_regression(data_test, \"ic9600_sce\", N=3, M=1, ic9600_test=True)\n",
    "dataset_result[\"sav_art\"] = run_regression(data_test, \"sav_art\", N=3, M=2, ic9600_test=True)\n",
    "dataset_result[\"sav_sup\"] = run_regression(data_test, \"sav_sup\", N=3, M=2, ic9600_test=True)\n",
    "dataset_result[\"ic9600_paint\"] = run_regression(data_test, \"ic9600_paint\", N=3, M=1, ic9600_test=True)\n",
    "dataset_result[\"visc\"] = run_regression(data_test, \"visc\", N=3, M=2, ic9600_test=True)\n",
    "dataset_result[\"sav_int\"] = run_regression(data_test, \"sav_int\", N=3, M=2, ic9600_test=True)\n",
    "\n",
    "dataset_result[\"ic9600_sce_full\"] = run_regression(data_full, \"ic9600_sce\", N=3, M=1, ic9600_test=False)\n",
    "dataset_result[\"ic9600_paint_full\"] = run_regression(data_full, \"ic9600_paint\", N=3, M=1, ic9600_test=False)"
   ]
  },
  {
   "cell_type": "code",
   "execution_count": null,
   "metadata": {},
   "outputs": [],
   "source": [
    "results_stats = results_to_mean_confidence_interval(dataset_result)"
   ]
  },
  {
   "cell_type": "code",
   "execution_count": null,
   "metadata": {},
   "outputs": [],
   "source": [
    "for dset, v in results_stats.items():\n",
    "    for mod, vv in v.items():\n",
    "        for s, (m, i) in vv.items():\n",
    "            if s == \"spearman_test\":\n",
    "                print(dset, mod, s, m, i)"
   ]
  },
  {
   "cell_type": "markdown",
   "metadata": {},
   "source": [
    "# Predictions from Single Split"
   ]
  },
  {
   "cell_type": "code",
   "execution_count": null,
   "metadata": {},
   "outputs": [],
   "source": [
    "for k in cats:\n",
    "    get_sqrt_transforms(data_full[k])\n",
    "    result = line_regression(\"complexity\", \"sqrt_seg_64points + sqrt_num_classes\", data_full[k], data_full[k], return_preds=True)\n",
    "    data_full[k][\"predictions\"] = result['predictions']\n",
    "    data_full[k][\"error\"] = result['predictions'] - data_full[k]['complexity']"
   ]
  },
  {
   "cell_type": "markdown",
   "metadata": {},
   "source": [
    "# Save Data for Analysis"
   ]
  },
  {
   "cell_type": "code",
   "execution_count": null,
   "metadata": {},
   "outputs": [],
   "source": [
    "pickle.dump(data_full, open(\"/ptmp/tshen/shared/Results/results.p\", \"wb\"))"
   ]
  }
 ],
 "metadata": {
  "kernelspec": {
   "display_name": "deep-learning",
   "language": "python",
   "name": "python3"
  },
  "language_info": {
   "codemirror_mode": {
    "name": "ipython",
    "version": 3
   },
   "file_extension": ".py",
   "mimetype": "text/x-python",
   "name": "python",
   "nbconvert_exporter": "python",
   "pygments_lexer": "ipython3",
   "version": "3.9.16"
  }
 },
 "nbformat": 4,
 "nbformat_minor": 2
}
